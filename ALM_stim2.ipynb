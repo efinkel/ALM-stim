{
 "cells": [
  {
   "cell_type": "code",
   "execution_count": 1,
   "metadata": {},
   "outputs": [],
   "source": [
    "import scipy as sp\n",
    "import scipy.io\n",
    "from scipy import stats\n",
    "import os\n",
    "import numpy as np\n",
    "import pandas as pd\n",
    "import glob\n",
    "import csv\n",
    "from tqdm import tnrange, tqdm_notebook\n",
    "from collections import Iterable\n",
    "import matplotlib.pylab as mpl\n",
    "import matplotlib.patches as patch\n",
    "from matplotlib import gridspec\n",
    "from IPython.core.debugger import set_trace\n"
   ]
  },
  {
   "cell_type": "code",
   "execution_count": 2,
   "metadata": {},
   "outputs": [],
   "source": [
    "trial_onsets = sp.io.loadmat('trialOnsets.mat')['trialOnsets']\n",
    "lick_onsets = sp.io.loadmat('lickOnsets.mat')['lickOnsetTime'][0]"
   ]
  },
  {
   "cell_type": "code",
   "execution_count": 3,
   "metadata": {},
   "outputs": [
    {
     "data": {
      "text/plain": [
       "['supra',\n",
       " 'thres',\n",
       " 'sub',\n",
       " 'mini',\n",
       " 'whisker_supra',\n",
       " 'whisker_thres',\n",
       " 'whisker_sub',\n",
       " 'whisker_mini',\n",
       " 'whisker']"
      ]
     },
     "execution_count": 3,
     "metadata": {},
     "output_type": "execute_result"
    }
   ],
   "source": [
    "columns = list(sp.io.loadmat('trialOnsets.mat')['trialOnsets'].dtype.names)\n",
    "columns.append(columns.pop(4))\n",
    "columns"
   ]
  },
  {
   "cell_type": "code",
   "execution_count": 4,
   "metadata": {},
   "outputs": [],
   "source": [
    "all_trial_onsets = [trial_onsets[type][0][0][0] for type in columns]\n",
    "tr_onsets_sort = {col:trial_type for col, trial_type in zip(columns, all_trial_onsets)}"
   ]
  },
  {
   "cell_type": "code",
   "execution_count": 5,
   "metadata": {},
   "outputs": [],
   "source": [
    "trial_length = np.median(np.diff(np.sort(np.concatenate(all_trial_onsets))))"
   ]
  },
  {
   "cell_type": "code",
   "execution_count": 6,
   "metadata": {},
   "outputs": [
    {
     "data": {
      "text/html": [
       "<div>\n",
       "<style scoped>\n",
       "    .dataframe tbody tr th:only-of-type {\n",
       "        vertical-align: middle;\n",
       "    }\n",
       "\n",
       "    .dataframe tbody tr th {\n",
       "        vertical-align: top;\n",
       "    }\n",
       "\n",
       "    .dataframe thead th {\n",
       "        text-align: right;\n",
       "    }\n",
       "</style>\n",
       "<table border=\"1\" class=\"dataframe\">\n",
       "  <thead>\n",
       "    <tr style=\"text-align: right;\">\n",
       "      <th></th>\n",
       "      <th>trial_type</th>\n",
       "      <th>trial_onset</th>\n",
       "      <th>trial_offset</th>\n",
       "    </tr>\n",
       "  </thead>\n",
       "  <tbody>\n",
       "    <tr>\n",
       "      <th>0</th>\n",
       "      <td>mini</td>\n",
       "      <td>19.087200</td>\n",
       "      <td>26.227167</td>\n",
       "    </tr>\n",
       "    <tr>\n",
       "      <th>1</th>\n",
       "      <td>mini</td>\n",
       "      <td>69.047533</td>\n",
       "      <td>76.187500</td>\n",
       "    </tr>\n",
       "    <tr>\n",
       "      <th>2</th>\n",
       "      <td>mini</td>\n",
       "      <td>118.956600</td>\n",
       "      <td>126.096567</td>\n",
       "    </tr>\n",
       "    <tr>\n",
       "      <th>3</th>\n",
       "      <td>mini</td>\n",
       "      <td>168.966300</td>\n",
       "      <td>176.106267</td>\n",
       "    </tr>\n",
       "    <tr>\n",
       "      <th>4</th>\n",
       "      <td>mini</td>\n",
       "      <td>218.886133</td>\n",
       "      <td>226.026100</td>\n",
       "    </tr>\n",
       "  </tbody>\n",
       "</table>\n",
       "</div>"
      ],
      "text/plain": [
       "  trial_type  trial_onset  trial_offset\n",
       "0       mini    19.087200     26.227167\n",
       "1       mini    69.047533     76.187500\n",
       "2       mini   118.956600    126.096567\n",
       "3       mini   168.966300    176.106267\n",
       "4       mini   218.886133    226.026100"
      ]
     },
     "execution_count": 6,
     "metadata": {},
     "output_type": "execute_result"
    }
   ],
   "source": [
    "log_df = pd.DataFrame(tr_onsets_sort).iloc[:,[0,1,3,2,5,6,8,7,4]]\n",
    "log_df = log_df.melt(var_name = 'trial_type', value_name = 'trial_onset')\n",
    "log_df['trial_onset'] = log_df['trial_onset'] - 0.05 #whisker stim was 0.05s before first laser onset\n",
    "log_df['trial_offset'] = log_df['trial_onset']+trial_length\n",
    "log_df.head()"
   ]
  },
  {
   "cell_type": "code",
   "execution_count": 7,
   "metadata": {},
   "outputs": [
    {
     "data": {
      "text/plain": [
       "array(['mini', 'sub', 'thres', 'supra', 'whisker_mini', 'whisker_sub',\n",
       "       'whisker_thres', 'whisker_supra', 'whisker'], dtype=object)"
      ]
     },
     "execution_count": 7,
     "metadata": {},
     "output_type": "execute_result"
    }
   ],
   "source": [
    "log_df['trial_type'].unique()"
   ]
  },
  {
   "cell_type": "code",
   "execution_count": 8,
   "metadata": {},
   "outputs": [
    {
     "data": {
      "text/html": [
       "<div>\n",
       "<style scoped>\n",
       "    .dataframe tbody tr th:only-of-type {\n",
       "        vertical-align: middle;\n",
       "    }\n",
       "\n",
       "    .dataframe tbody tr th {\n",
       "        vertical-align: top;\n",
       "    }\n",
       "\n",
       "    .dataframe thead th {\n",
       "        text-align: right;\n",
       "    }\n",
       "</style>\n",
       "<table border=\"1\" class=\"dataframe\">\n",
       "  <thead>\n",
       "    <tr style=\"text-align: right;\">\n",
       "      <th></th>\n",
       "      <th>trial_type</th>\n",
       "      <th>trial_onset</th>\n",
       "      <th>trial_offset</th>\n",
       "      <th>licks</th>\n",
       "    </tr>\n",
       "  </thead>\n",
       "  <tbody>\n",
       "    <tr>\n",
       "      <th>0</th>\n",
       "      <td>mini</td>\n",
       "      <td>19.087200</td>\n",
       "      <td>26.227167</td>\n",
       "      <td>[]</td>\n",
       "    </tr>\n",
       "    <tr>\n",
       "      <th>1</th>\n",
       "      <td>mini</td>\n",
       "      <td>69.047533</td>\n",
       "      <td>76.187500</td>\n",
       "      <td>[]</td>\n",
       "    </tr>\n",
       "    <tr>\n",
       "      <th>2</th>\n",
       "      <td>mini</td>\n",
       "      <td>118.956600</td>\n",
       "      <td>126.096567</td>\n",
       "      <td>[]</td>\n",
       "    </tr>\n",
       "    <tr>\n",
       "      <th>3</th>\n",
       "      <td>mini</td>\n",
       "      <td>168.966300</td>\n",
       "      <td>176.106267</td>\n",
       "      <td>[]</td>\n",
       "    </tr>\n",
       "    <tr>\n",
       "      <th>4</th>\n",
       "      <td>mini</td>\n",
       "      <td>218.886133</td>\n",
       "      <td>226.026100</td>\n",
       "      <td>[]</td>\n",
       "    </tr>\n",
       "  </tbody>\n",
       "</table>\n",
       "</div>"
      ],
      "text/plain": [
       "  trial_type  trial_onset  trial_offset licks\n",
       "0       mini    19.087200     26.227167    []\n",
       "1       mini    69.047533     76.187500    []\n",
       "2       mini   118.956600    126.096567    []\n",
       "3       mini   168.966300    176.106267    []\n",
       "4       mini   218.886133    226.026100    []"
      ]
     },
     "execution_count": 8,
     "metadata": {},
     "output_type": "execute_result"
    }
   ],
   "source": [
    "log_df['licks'] = log_df.apply(lambda x: [lick_onsets[(lick_onsets>= x['trial_onset']) & (lick_onsets <= x['trial_offset'])]], axis = 1)\n",
    "log_df['licks'] = log_df['licks'].apply(lambda x: x[0])\n",
    "log_df['licks'] = log_df.apply(lambda x: x['licks'] - x['trial_onset'] if len(x['licks'])>0 else [], axis = 1)\n",
    "log_df.head()"
   ]
  },
  {
   "cell_type": "code",
   "execution_count": 9,
   "metadata": {},
   "outputs": [],
   "source": [
    "log_df['laser_int'] = 0\n",
    "log_df.loc[log_df['trial_type'].str.contains('mini'), 'laser_int'] = 1\n",
    "log_df.loc[log_df['trial_type'].str.contains('sub'), 'laser_int'] = 2\n",
    "log_df.loc[log_df['trial_type'].str.contains('thres'), 'laser_int'] = 3\n",
    "log_df.loc[log_df['trial_type'].str.contains('supra'), 'laser_int'] = 4"
   ]
  },
  {
   "cell_type": "code",
   "execution_count": 10,
   "metadata": {},
   "outputs": [],
   "source": [
    "edges = np.arange(-0.25, 2.5, 0.01)\n",
    "log_df['lick_counts'] = log_df['licks'].apply(lambda x: np.histogram(x, bins = edges)[0])"
   ]
  },
  {
   "cell_type": "code",
   "execution_count": 11,
   "metadata": {},
   "outputs": [
    {
     "data": {
      "image/png": "[encoded data removed]",
      "text/plain": [
       "<matplotlib.figure.Figure at 0x16cce3d0358>"
      ]
     },
     "metadata": {},
     "output_type": "display_data"
    }
   ],
   "source": [
    "mpl.close('all')\n",
    "fig = mpl.figure(figsize = (10, 15))\n",
    "\n",
    "ax1 = fig.add_subplot(311)\n",
    "\n",
    "no_whisker = log_df.loc[~log_df['trial_type'].str.contains('whisker'),:]\n",
    "for trial,licks in enumerate(no_whisker['licks']):\n",
    "    [mpl.vlines(lick, trial-0.5, trial+0.5) for lick in licks]\n",
    "    ax1.scatter(2.4, trial, s = 4**(no_whisker.iloc[trial]['laser_int']), color = 'C0')\n",
    "\n",
    "\n",
    "ax2 = fig.add_subplot(312)\n",
    "laser_whisker = log_df.loc[log_df['trial_type'].str.contains('whisker_'),:]\n",
    "for trial,licks in enumerate(laser_whisker['licks']):\n",
    "    [mpl.vlines(lick, trial-0.5, trial+0.5) for lick in licks]\n",
    "    ax2.scatter(2.4, trial, s = 4**(laser_whisker.iloc[trial]['laser_int']), color = 'C0')\n",
    "\n",
    "for ax in [ax1,ax2]:\n",
    "    ax.set_xlim(-0.25,2.5), ax.set_ylim(0,160)\n",
    "    ax.spines['right'].set_visible(False)\n",
    "    ax.spines['top'].set_visible(False)\n",
    "    [ax.add_patch(patch.Rectangle([0.05+.1*i, 0], 0.005, 160, color = 'C0', alpha = 0.3)) for i in range(int(1.5/.1))]\n",
    "    ax.add_patch(patch.Rectangle([0.05+.1*15, 0], 0.005, 160, color = 'C7', alpha = 0.1))\n",
    "    \n",
    "### psths ###############################    \n",
    "ax3 = fig.add_subplot(3,1,3)\n",
    "# ax4 = fig.add_subplot(3,1,4)  \n",
    "colors = iter(['C7', 'C3'])\n",
    "\n",
    "for cond in [no_whisker, laser_whisker]:\n",
    "    color = next(colors)\n",
    "    for offset, t_type in enumerate(cond['trial_type'].unique()):\n",
    "        l_counts = cond.loc[cond['trial_type'] == t_type, 'lick_counts']\n",
    "        hist = np.mean((np.vstack(l_counts.as_matrix())), axis = 0)\n",
    "        sd_hist = np.std((np.vstack(l_counts.as_matrix())), axis = 0)\n",
    "        ax3.plot(edges[1:], hist+offset/4, color = color, alpha = 0.7)\n",
    "#         ax4.plot(edges[1:], sd_hist+offset/2, color = color, alpha = 0.7)\n",
    "\n",
    "[ax3.add_patch(patch.Rectangle([0.05+.1*i, 0], 0.005, 160, color = 'C0', alpha = 0.1)) for i in range(int(1.5/.1))]\n",
    "ax3.plot\n",
    "for ax in [ax3]:\n",
    "    ax.set_xlim(-0.25, 2.5)\n",
    "    ax.spines['right'].set_visible(False)\n",
    "    ax.spines['left'].set_visible(False)\n",
    "    ax.spines['top'].set_visible(False)\n",
    "    ax.yaxis.set_visible(False)\n"
   ]
  },
  {
   "cell_type": "code",
   "execution_count": 12,
   "metadata": {},
   "outputs": [],
   "source": [
    "fig.savefig('EF118_licks.pdf', format='pdf', dpi=900, transparent = True)"
   ]
  },
  {
   "cell_type": "code",
   "execution_count": null,
   "metadata": {},
   "outputs": [],
   "source": [
    "fig2 = mpl.figure(figsize = (10,3))\n",
    "\n",
    "ax1 = fig2.add_subplot(211)\n",
    "\n",
    "only_whisker = log_df.loc[log_df['trial_type']=='whisker',:]\n",
    "for trial,licks in enumerate(only_whisker['licks']):\n",
    "    [mpl.vlines(lick, trial-0.25, trial+0.5) for lick in licks]\n",
    "    \n",
    "ax1.set_xlim(0,only_whisker.shape[0])\n",
    "ax1.set_ylim(0,only_whisker.shape[0])\n",
    "ax1.spines['right'].set_visible(False)\n",
    "ax1.spines['top'].set_visible(False)\n",
    "fig2"
   ]
  },
  {
   "cell_type": "code",
   "execution_count": null,
   "metadata": {},
   "outputs": [],
   "source": [
    "clusters_f = sp.io.loadmat('clusteredSpikes.mat')\n",
    "clusters = clusters_f['spikeTimes']\n",
    "chan_num = clusters_f['numChans']"
   ]
  },
  {
   "cell_type": "code",
   "execution_count": null,
   "metadata": {},
   "outputs": [],
   "source": [
    "clusters = np.array([np.concatenate(clust) for clust in clusters[0]])"
   ]
  },
  {
   "cell_type": "code",
   "execution_count": null,
   "metadata": {},
   "outputs": [],
   "source": [
    "fig3 = mpl.figure(figsize = (20,7))\n",
    "for offset, clust in enumerate(clusters):\n",
    "    jitter = np.random.rand(clust.size)*.05\n",
    "    mpl.scatter(clust, np.ones(clust.size)+jitter+offset,marker = '.', s = 1)\n"
   ]
  },
  {
   "cell_type": "code",
   "execution_count": null,
   "metadata": {},
   "outputs": [],
   "source": [
    "clust_ff = []\n",
    "for offset, clust in enumerate(clusters):\n",
    "    hist = np.histogram(clust,bins = np.arange(0,3000,100))[0]\n",
    "    clust_ff.append(np.std(hist)/np.mean(hist))\n",
    "\n",
    "order = np.argsort(clust_ff)\n",
    "clusters = clusters[order]\n",
    "chan_num = chan_num[0][order]"
   ]
  },
  {
   "cell_type": "code",
   "execution_count": null,
   "metadata": {},
   "outputs": [],
   "source": [
    "mpl.close('all')\n",
    "fig4 = mpl.figure(figsize = (20,7))\n",
    "for offset, clust in enumerate(clusters):\n",
    "    jitter = np.random.rand(clust.size)*.05\n",
    "    mpl.scatter(clust, np.ones(clust.size)+jitter+offset,marker = '.', s = 0.5)\n",
    "    "
   ]
  },
  {
   "cell_type": "code",
   "execution_count": null,
   "metadata": {},
   "outputs": [],
   "source": [
    "def sort_clust(clust): \n",
    "    return log_df.apply(lambda x: [clust[(clust>=x['trial_onset']-1) & \n",
    "                                          (clust<=x['trial_offset']-1)] - x['trial_onset']] ,axis = 1)\n",
    "    \n",
    "col_names = ['clust'+str(i) for i in range(len(clusters))]    \n",
    "sorted_clusts = pd.DataFrame([sort_clust(clust) for clust in clusters], index = col_names).T\n",
    "sorted_clusts = sorted_clusts.applymap(lambda x: x[0])\n",
    "log_df = pd.concat([log_df, sorted_clusts], axis = 1)\n",
    "log_df.head(3)"
   ]
  },
  {
   "cell_type": "code",
   "execution_count": null,
   "metadata": {},
   "outputs": [],
   "source": [
    "id_vars = ['trial_type', 'trial_onset', 'trial_offset', 'licks', 'laser_int', 'lick_counts']\n",
    "log_df = log_df.melt(id_vars = id_vars, var_name = 'cluster', value_name = 'spikes')\n",
    "columns = list(log_df.columns)\n",
    "columns = ['cluster'] + columns\n",
    "columns.pop(7)\n",
    "log_df = log_df[columns]\n",
    "log_df.head()"
   ]
  },
  {
   "cell_type": "code",
   "execution_count": null,
   "metadata": {},
   "outputs": [],
   "source": [
    "bin_size = 0.025"
   ]
  },
  {
   "cell_type": "code",
   "execution_count": null,
   "metadata": {},
   "outputs": [],
   "source": [
    "count_xvals = np.arange(-1,3,bin_size)\n",
    "log_df['count_xvals'] = [count_xvals]*log_df.shape[0]\n",
    "log_df['spike_counts'] = log_df['spikes'].apply(lambda x: [np.histogram(x, bins = count_xvals)[0]])"
   ]
  },
  {
   "cell_type": "code",
   "execution_count": null,
   "metadata": {},
   "outputs": [],
   "source": [
    "np.where([0,2,0])[0]"
   ]
  },
  {
   "cell_type": "code",
   "execution_count": null,
   "metadata": {},
   "outputs": [],
   "source": [
    "laser_onsets = np.arange(0.05, 1.5, 0.1)\n",
    "def first_spikes(laser_times, spike_times):\n",
    "    pos_sp = [spike_times-laser for laser in laser_times]\n",
    "    first_sp = [min(spikes[((spikes>0) & (spikes<0.1))]) \n",
    "                if len(spikes[((spikes>0) & (spikes<0.1))])>0 else np.nan for spikes in pos_sp]\n",
    "    return np.array(first_sp)"
   ]
  },
  {
   "cell_type": "code",
   "execution_count": null,
   "metadata": {},
   "outputs": [],
   "source": [
    "log_df['first_spikes'] = log_df['spikes'].apply(lambda x: first_spikes(laser_onsets,x))"
   ]
  },
  {
   "cell_type": "code",
   "execution_count": null,
   "metadata": {},
   "outputs": [],
   "source": [
    "log_df['first_spikes_concat'] = log_df['first_spikes'].apply(lambda x: x[(~np.isnan(x))])"
   ]
  },
  {
   "cell_type": "code",
   "execution_count": null,
   "metadata": {},
   "outputs": [],
   "source": [
    "log_df.head()"
   ]
  },
  {
   "cell_type": "code",
   "execution_count": null,
   "metadata": {},
   "outputs": [],
   "source": [
    "def plot_rast(df,ax,window, laser = True):\n",
    "    mpl.sca(ax)\n",
    "    for trial in range(df.shape[0]):\n",
    "        [mpl.vlines(lick, trial-0.5, trial+0.5, color = 'r') for lick in df.loc[trial, 'licks']]\n",
    "        spikes = df.loc[trial, 'spikes']\n",
    "        spikes = spikes[(spikes >= window[0]) & (spikes <= window[1])]\n",
    "        [mpl.vlines(spike, trial-0.5, trial+0.5) for spike in spikes]\n",
    "        if laser:\n",
    "            ax.scatter(window[1]+window[1]*.06, trial, s = 4**(df.iloc[trial]['laser_int']), color = 'C0', clip_on=False)\n",
    "    ax.set_xlabel('Time (s)'); ax.set_ylabel('Trial num')"
   ]
  },
  {
   "cell_type": "code",
   "execution_count": null,
   "metadata": {},
   "outputs": [],
   "source": [
    "def prettify(ax, xlim, ylim, laser = True, axis_off = False, stim = False):\n",
    "    ax.set_xlim(xlim), ax.set_ylim(ylim)\n",
    "    ax.spines['right'].set_visible(False)\n",
    "    ax.spines['top'].set_visible(False)\n",
    "    if laser:\n",
    "        [ax.add_patch(patch.Rectangle([0.05+.1*i, 0], 0.005, ylim[1], color = 'C0', alpha = 0.3)) for i in range(int(1.5/.1))]\n",
    "        ax.add_patch(patch.Rectangle([0.05+.1*15, 0], 0.005, ylim[1], color = 'C7', alpha = 0.1))\n",
    "        ax.text(xlim[1]*0.6, ylim[1]+10, 'Laser Stimulus', color = 'C0', alpha= 0.7)\n",
    "        ax.text(xlim[1]*1.13, ylim[1]*2/3, 'Laser intensity', color = 'C0', rotation = 90)\n",
    "    if axis_off:\n",
    "        ax.spines['left'].set_visible(False)\n",
    "        ax.spines['bottom'].set_visible(False)\n",
    "        ax.axis('off')\n",
    "    if stim:\n",
    "        ax.add_patch(patch.Rectangle([0,ylim[1]+10], 0.15, 15, color = 'C4', alpha = 0.5, clip_on = False))\n",
    "        ax.text(0.175, ylim[1]+10, 'Whisker Stimulus', color = 'C4', alpha= 0.7)"
   ]
  },
  {
   "cell_type": "code",
   "execution_count": null,
   "metadata": {},
   "outputs": [],
   "source": [
    "def calc_psth(df,bin_inds,bin_size):\n",
    "    bin_inds = bin_inds[:-1]\n",
    "    hist = np.vstack(df['spike_counts'].as_matrix())\n",
    "    m_FR = np.mean(hist, axis = 0)/bin_size\n",
    "    sem_FR = stats.sem(hist,axis = 0)/bin_size\n",
    "    \n",
    "    return m_FR[bin_inds], sem_FR[bin_inds]"
   ]
  },
  {
   "cell_type": "code",
   "execution_count": null,
   "metadata": {},
   "outputs": [],
   "source": [
    "def compare_psths(clust_df, conds, ax, window, bin_size, colors = ['C7', 'C2'], offset = 0, laser = True):\n",
    "    colors = iter(colors)\n",
    "    clust_df = clust_df.reset_index(drop=True)\n",
    "    bin_inds = (clust_df.loc[0, 'count_xvals'] >= window[0]) & (clust_df.loc[0, 'count_xvals'] <= window[1])\n",
    "    bin_inds = bin_inds\n",
    "    xvals = clust_df.loc[0, 'count_xvals'][bin_inds]+bin_size\n",
    "    for cond in conds:\n",
    "        color = next(colors)\n",
    "        if laser == False: color = 'C4'\n",
    "        cond_df = clust_df.loc[clust_df['trial_type'] == cond,:]\n",
    "        mean, sem = calc_psth(cond_df, bin_inds, bin_size)\n",
    "        ax.plot(xvals, mean+offset, color = color)\n",
    "        ax.fill_between(xvals, mean+sem+offset, mean-sem+offset, alpha = 0.5,color = color)\n",
    "        intensity = cond_df['laser_int'].iloc[0]\n",
    "        if intensity > 0 :\n",
    "            ax.scatter(xvals[-1]*1.06, offset, s = 4**intensity, color = 'C0', clip_on = False)\n"
   ]
  },
  {
   "cell_type": "code",
   "execution_count": null,
   "metadata": {},
   "outputs": [],
   "source": [
    "def plot_spike_latency(clust_df, conds, ax, colors = ['C7', 'C2'], laser = True):\n",
    "    for i, cond in enumerate(conds): \n",
    "        cond_df = clust_df.loc[clust_df['trial_type'] == cond, :]\n",
    "        first_spikes = cond_df['first_spikes_concat']\n",
    "        first_spikes = np.concatenate(first_spikes.as_matrix())\n",
    "#         from IPython.core.debugger import Tracer; Tracer()() \n",
    "        if laser == False: color = 'C4'\n",
    "        else: color = colors[i] \n",
    "        ax.hist(first_spikes, bins = np.arange(0,0.1,0.0025), color = color, alpha = 0.5)\n",
    "        \n",
    "    if laser:\n",
    "        intensity = cond_df['laser_int'].iloc[0]\n",
    "        ax.scatter(0.1*1.06, 50, s = 4**intensity, color = 'C0', clip_on = False)\n",
    "        ax.add_patch(patch.Rectangle([0, 0], 0.005, 100, color = 'C0', alpha = 0.5))\n",
    "        \n",
    "    ax.spines['right'].set_visible(False)\n",
    "    ax.spines['top'].set_visible(False)\n",
    "    ax.set_ylabel('Freq of first spikes')\n",
    "    ax.set_xlabel('Time from laser-stim onset (s)')\n",
    "    ax.set_xlim([-0.005, 0.1]); ax.set_ylim(0,100)"
   ]
  },
  {
   "cell_type": "code",
   "execution_count": null,
   "metadata": {},
   "outputs": [],
   "source": [
    "def plot_lick_hist(clust_df, conds, ax, colors)"
   ]
  },
  {
   "cell_type": "code",
   "execution_count": null,
   "metadata": {},
   "outputs": [],
   "source": [
    "def plot_unit(ex_clust, windows = [[-0.25,2], [-0.1, 0.6]], bin_size = 0.025):\n",
    "\n",
    "    mpl.close('all')\n",
    "    fig = mpl.figure(figsize = (27, 25))\n",
    "    gs = gridspec.GridSpec(8,2, height_ratios = [4,4,1,4,1,1,1,1])\n",
    "    windows = iter(windows)\n",
    "\n",
    "    for col in range(2):\n",
    "        window = next(windows)\n",
    "        ax1 = mpl.subplot(gs[0, col])\n",
    "        no_whisker = ex_clust.loc[~ex_clust['trial_type'].str.contains('whisker'),:].reset_index(drop=True)\n",
    "        plot_rast(no_whisker,ax1,window)\n",
    "\n",
    "        ax2 = mpl.subplot(gs[1, col])\n",
    "        laser_whisker = ex_clust.loc[ex_clust['trial_type'].str.contains('whisker_'),:].reset_index(drop=True)\n",
    "        plot_rast(laser_whisker,ax2,window)\n",
    "\n",
    "        ax3 = mpl.subplot(gs[2, col])\n",
    "        only_whisker = ex_clust.loc[ex_clust['trial_type']=='whisker',:].reset_index(drop=True)\n",
    "        plot_rast(only_whisker,ax3,window, laser = False)\n",
    "\n",
    "        ax4 = mpl.subplot(gs[3, col])\n",
    "        compare_psths(ex_clust, ['whisker'], ax4, window, bin_size, offset = -80, laser = False)\n",
    "        compare_psths(ex_clust, ['mini', 'whisker_mini'], ax4, window, bin_size, offset = 0)\n",
    "        compare_psths(ex_clust, ['sub', 'whisker_sub'], ax4, window, bin_size, offset = 80)\n",
    "        compare_psths(ex_clust, ['thres', 'whisker_thres'], ax4, window, bin_size, offset = 160)\n",
    "        compare_psths(ex_clust, ['supra', 'whisker_supra'], ax4, window, bin_size, offset = 240)\n",
    "        ax4.text(0.8, 0.2, 'Laser-stim + whisker-stim', color = 'C2', transform = ax4.transAxes)\n",
    "        ax4.text(0.8, 0.15, 'Laser-stim alone', color = 'C7', transform = ax4.transAxes)\n",
    "        ax4.text(0.8, 0.1, 'Whisker-stim alone', color = 'C4', transform = ax4.transAxes)\n",
    "\n",
    "        prettify(ax1, window, [0,160])\n",
    "        prettify(ax2, window, [0,160], stim = True)\n",
    "        prettify(ax3, window, [0,40], stim = True, laser = False)\n",
    "        prettify(ax4, window, [-100,330], stim = True, axis_off = True)\n",
    "    \n",
    "    ax5 = mpl.subplot(gs[4, 0])\n",
    "    plot_spike_latency(ex_clust,['supra', 'whisker_supra'], ax = ax5)\n",
    "    ax6 = mpl.subplot(gs[5, 0])\n",
    "    plot_spike_latency(ex_clust,['thres', 'whisker_thres'], ax = ax6)\n",
    "    ax7 = mpl.subplot(gs[6, 0])\n",
    "    plot_spike_latency(ex_clust,['sub', 'whisker_sub'], ax = ax7)\n",
    "    ax8 = mpl.subplot(gs[7, 0])\n",
    "    plot_spike_latency(ex_clust,['mini', 'whisker_mini'], ax = ax8)\n",
    "   \n",
    "   \n",
    "    fig.subplots_adjust(hspace = 0.6, wspace = 0.3)\n",
    "    return fig"
   ]
  },
  {
   "cell_type": "code",
   "execution_count": null,
   "metadata": {},
   "outputs": [],
   "source": [
    "for clust in log_df['cluster'].unique():\n",
    "    ex_clust = log_df[log_df['cluster'] == clust]\n",
    "    fig = plot_unit(ex_clust)\n",
    "    fig.savefig(str(clust)+'.pdf', format='pdf', dpi=900, transparent = True, orientation='landscape')"
   ]
  },
  {
   "cell_type": "code",
   "execution_count": null,
   "metadata": {},
   "outputs": [],
   "source": [
    "ex_clust = log_df[log_df['cluster'] == 'clust3']\n",
    "fig = plot_unit(ex_clust)\n"
   ]
  },
  {
   "cell_type": "code",
   "execution_count": null,
   "metadata": {},
   "outputs": [],
   "source": []
  }
 ],
 "metadata": {
  "kernelspec": {
   "display_name": "Python 3",
   "language": "python",
   "name": "python3"
  },
  "language_info": {
   "codemirror_mode": {
    "name": "ipython",
    "version": 3
   },
   "file_extension": ".py",
   "mimetype": "text/x-python",
   "name": "python",
   "nbconvert_exporter": "python",
   "pygments_lexer": "ipython3",
   "version": "3.6.0"
  }
 },
 "nbformat": 4,
 "nbformat_minor": 2
}
